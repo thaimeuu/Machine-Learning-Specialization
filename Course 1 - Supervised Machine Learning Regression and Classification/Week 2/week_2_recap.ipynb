{
 "cells": [
  {
   "cell_type": "markdown",
   "metadata": {},
   "source": [
    "## WEEK 2 RECAP\n",
    "\n",
    "### Learning Objectives\n",
    "- Use vectorization to implement multiple linear regression\n",
    "- Use feature scaling, feature engineering, and polynomial regression to improve model training\n",
    "- Implement linear regression in code\n",
    "\n",
    "### Note:\n",
    "\n",
    "This notebook is my **original code** for me to assess my understanding about what I have learned in **Week 2**\n",
    "\n",
    "In this one, I will perform **Multiple Linear Regression** with **Gradient Descent** on an easy dataset. I will perform **Feature Scaling** beforehand."
   ]
  },
  {
   "cell_type": "code",
   "execution_count": 5,
   "metadata": {},
   "outputs": [],
   "source": [
    "import math\n",
    "\n",
    "import numpy as np\n",
    "import matplotlib.pyplot as plt"
   ]
  },
  {
   "cell_type": "code",
   "execution_count": 6,
   "metadata": {},
   "outputs": [],
   "source": [
    "# Create dataset\n",
    "X_train = np.array([[2104, 5, 1, 45], [1416, 3, 2, 40], [852, 2, 1, 35]])\n",
    "y_train = np.array([460, 232, 178])\n",
    "X_features = [\"size\", \"bedroom\", \"floor\", \"age\"]"
   ]
  },
  {
   "cell_type": "code",
   "execution_count": 7,
   "metadata": {},
   "outputs": [
    {
     "name": "stdout",
     "output_type": "stream",
     "text": [
      "Training example\n",
      "3 examples, each contains 4 features\n",
      "\n",
      "Features, (3, 4)\n",
      "[[2104    5    1   45]\n",
      " [1416    3    2   40]\n",
      " [ 852    2    1   35]]\n",
      "Targets, (3,)\n",
      "[460 232 178]\n"
     ]
    }
   ],
   "source": [
    "# Dataset overview\n",
    "print(\"Training example\")\n",
    "print(f\"{X_train.shape[0]} examples, each contains {X_train.shape[1]} features\\n\")\n",
    "print(f\"Features, {X_train.shape}\")\n",
    "print(X_train)\n",
    "print(f\"Targets, {y_train.shape}\")\n",
    "print(y_train)"
   ]
  },
  {
   "cell_type": "code",
   "execution_count": 8,
   "metadata": {},
   "outputs": [
    {
     "data": {
      "image/png": "[encoded data removed]",
      "text/plain": [
       "<Figure size 900x300 with 4 Axes>"
      ]
     },
     "metadata": {},
     "output_type": "display_data"
    }
   ],
   "source": [
    "# Plotting each feature vs target to see which feature affect the target price the most\n",
    "# However, the data is too small so we shouldn't plot them out\n",
    "fig, ax=plt.subplots(1, 4, figsize=(9, 3), sharey=True)\n",
    "for i in range(len(ax)):\n",
    "    ax[i].scatter(X_train[:,i],y_train)\n",
    "    ax[i].set_xlabel(X_features[i])\n",
    "ax[0].set_ylabel(\"Price (1000's)\")\n",
    "plt.show()"
   ]
  },
  {
   "cell_type": "code",
   "execution_count": null,
   "metadata": {},
   "outputs": [],
   "source": [
    "# Feature scaling"
   ]
  },
  {
   "cell_type": "code",
   "execution_count": 9,
   "metadata": {},
   "outputs": [],
   "source": [
    "# Initial values for w and b\n",
    "w_init = np.zeros(X_train.shape[1])  # w is an array of length n (features)\n",
    "b_init = 0"
   ]
  },
  {
   "cell_type": "code",
   "execution_count": 10,
   "metadata": {},
   "outputs": [],
   "source": [
    "# Cost function\n",
    "def compute_cost(X_train, y_train, w, b):\n",
    "    \"\"\"\n",
    "    Compute cost of model at (w, b)\n",
    "\n",
    "    Args:\n",
    "        X_train (ndarray) (m, n): features\n",
    "        y_train (ndarray) (m,): targets\n",
    "        w (ndarray) (n,): model parameter\n",
    "        b (scalar): model parameter\n",
    "\n",
    "    Returns:\n",
    "        float: cost\n",
    "    \"\"\"\n",
    "    \n",
    "    m = X_train.shape[0]\n",
    "    total_cost = 0\n",
    "    \n",
    "    for i in range(m):\n",
    "        cost = (np.dot(w, X_train[i]) + b - y_train[i]) ** 2\n",
    "        total_cost += cost\n",
    "        \n",
    "    total_cost /= 2 * m\n",
    "    \n",
    "    return total_cost"
   ]
  },
  {
   "cell_type": "code",
   "execution_count": 11,
   "metadata": {},
   "outputs": [],
   "source": [
    "# Gradient function\n",
    "def compute_gradient(X_train, y_train, w, b):\n",
    "    \"\"\"\n",
    "    Gradient dj_dw_j and dj_db at (w, b)\n",
    "\n",
    "    Args:\n",
    "        X_train (ndarray) (m, n): features\n",
    "        y_train (ndarray) (m,): targets\n",
    "        w (ndarray) (n,): model parameter\n",
    "        b (scalar): model parameter\n",
    "\n",
    "    Returns:\n",
    "        dj_dw_j (ndarray) (n,): gradient wrt wj\n",
    "        dj_db (scalar): gradient wrt b\n",
    "    \"\"\"\n",
    "    \n",
    "    m, n = X_train.shape\n",
    "    dj_dw_j = np.zeros(n)\n",
    "    dj_db = 0\n",
    "    \n",
    "    for i in range(m):\n",
    "        error = np.dot(w, X_train[i]) + b - y_train[i]\n",
    "        for j in range(n):\n",
    "            dj_dw_j[j] += error * X_train[i, j]\n",
    "        dj_db += error\n",
    "        \n",
    "    dj_dw_j /= m\n",
    "    dj_db /= m\n",
    "    \n",
    "    return dj_dw_j, dj_db"
   ]
  },
  {
   "cell_type": "code",
   "execution_count": 12,
   "metadata": {},
   "outputs": [],
   "source": [
    "# Gradient descent function\n",
    "def gradient_descent(X_train, y_train, w_init, b_init, alpha, num_iters, gradient_function, cost_function):\n",
    "    \"\"\"\n",
    "    Find the optimal w and b\n",
    "\n",
    "    Args:\n",
    "        X_train (ndarray) (m, n): features\n",
    "        y_train (ndarray) (m,): targets\n",
    "        w_init (ndarray) (n,): model parameter\n",
    "        b_init (scalar): model parameter\n",
    "        alpha (float): learning rate\n",
    "        num_iters (int): # iterations\n",
    "        gradient_function (function): compute_gradient\n",
    "        cost_function (function): cost function\n",
    "        \n",
    "    Returns:\n",
    "        w (ndarray) (n,): w_optimal\n",
    "        b (scalar): b_optimal\n",
    "    \"\"\"\n",
    "    \n",
    "    w, b = w_init, b_init\n",
    "    \n",
    "    for i in range(num_iters):\n",
    "        dj_dw_j, dj_db = gradient_function(X_train, y_train, w, b)\n",
    "        \n",
    "        # for index, gradient in enumerate(dj_dw_j):\n",
    "        #     w[index] = w[index] - alpha * gradient\n",
    "        w = w - alpha * dj_dw_j\n",
    "        b = b - alpha * dj_db\n",
    "        \n",
    "        if i % math.ceil(num_iters / 10) == 0:\n",
    "            print(f\"Cost at iter # {i} = {cost_function(X_train, y_train, w, b)}\")\n",
    "            \n",
    "    return w, b"
   ]
  },
  {
   "cell_type": "code",
   "execution_count": 13,
   "metadata": {},
   "outputs": [
    {
     "name": "stdout",
     "output_type": "stream",
     "text": [
      "Cost at iter # 0 = 2529.4629522316304\n",
      "Cost at iter # 100 = 695.990315835203\n",
      "Cost at iter # 200 = 694.9206979323061\n",
      "Cost at iter # 300 = 693.8604297851192\n",
      "Cost at iter # 400 = 692.8094286135905\n",
      "Cost at iter # 500 = 691.7676123706057\n",
      "Cost at iter # 600 = 690.7348997354997\n",
      "Cost at iter # 700 = 689.711210107616\n",
      "Cost at iter # 800 = 688.6964635999458\n",
      "Cost at iter # 900 = 687.6905810327947\n",
      "w optimal = [ 0.20396569  0.00374919 -0.0112487  -0.0658614 ]\n",
      "b optimal = -0.002235407530932535\n"
     ]
    }
   ],
   "source": [
    "# Use functions above to find w optimal and b optimal\n",
    "w_optimal, b_optimal = gradient_descent(X_train, y_train, w_init, b_init, 5.0e-7, 1000, compute_gradient, compute_cost)\n",
    "print(f\"w optimal = {w_optimal}\\nb optimal = {b_optimal}\")"
   ]
  },
  {
   "cell_type": "code",
   "execution_count": 14,
   "metadata": {},
   "outputs": [
    {
     "name": "stdout",
     "output_type": "stream",
     "text": [
      "Example 1's prediction: 426.18530497189204 | Target value y = 460\n",
      "Example 2's prediction: 286.1674720078562 | Target value y = 232\n",
      "Example 3's prediction: 171.46763087132317 | Target value y = 178\n"
     ]
    }
   ],
   "source": [
    "# Predict training example\n",
    "for i in range(X_train.shape[0]):\n",
    "    print(f\"Example {i + 1}'s prediction: {np.dot(w_optimal, X_train[i]) + b_optimal} | Target value y = {y_train[i]}\")"
   ]
  },
  {
   "cell_type": "code",
   "execution_count": null,
   "metadata": {},
   "outputs": [],
   "source": []
  }
 ],
 "metadata": {
  "kernelspec": {
   "display_name": "Python 3",
   "language": "python",
   "name": "python3"
  },
  "language_info": {
   "codemirror_mode": {
    "name": "ipython",
    "version": 3
   },
   "file_extension": ".py",
   "mimetype": "text/x-python",
   "name": "python",
   "nbconvert_exporter": "python",
   "pygments_lexer": "ipython3",
   "version": "3.12.1"
  }
 },
 "nbformat": 4,
 "nbformat_minor": 2
}
