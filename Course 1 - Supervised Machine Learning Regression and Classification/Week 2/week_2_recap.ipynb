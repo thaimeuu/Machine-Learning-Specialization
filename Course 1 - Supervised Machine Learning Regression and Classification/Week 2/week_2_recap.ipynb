{
 "cells": [
  {
   "cell_type": "markdown",
   "metadata": {},
   "source": [
    "## WEEK 2 RECAP\n",
    "\n",
    "### Learning Objectives\n",
    "1. Overview of Machine Learning\n",
    "2. Supervised and Unsupervised Machine Learning\n",
    "3. Regression Model\n",
    "4. Train the model with Gradient Descent\n",
    "\n",
    "### Note:\n",
    "\n",
    "This notebook is my **original code** for me to assess my understanding about what I have learned in **Week 2**\n",
    "\n",
    "In this one, I will perform **Linear Regression** with **Gradient Descent** on an easy dataset"
   ]
  },
  {
   "cell_type": "code",
   "execution_count": null,
   "metadata": {},
   "outputs": [],
   "source": []
  }
 ],
 "metadata": {
  "language_info": {
   "name": "python"
  }
 },
 "nbformat": 4,
 "nbformat_minor": 2
}
