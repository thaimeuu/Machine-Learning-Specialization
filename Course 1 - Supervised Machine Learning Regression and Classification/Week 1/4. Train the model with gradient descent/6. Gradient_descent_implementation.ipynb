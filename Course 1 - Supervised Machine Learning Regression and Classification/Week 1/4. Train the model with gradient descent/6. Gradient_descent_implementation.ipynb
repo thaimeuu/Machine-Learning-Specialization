{
 "cells": [
  {
   "cell_type": "markdown",
   "metadata": {},
   "source": [
    "## Recap\n",
    "\n",
    "**Linear Regression Model**\n",
    "\n",
    "- f<sub>w,b</sub>(x)=wx+b\n",
    "\n",
    "**Squared Error cost function**\n",
    "\n",
    "- L(w,b)=<sup>1</sup>/<sub>2m</sub> * ∑ (f<sub>w,b</sub>(x<sup>(i)</sup>) - y<sup>(i)</sup>)<sup>2</sup>\n",
    "\n",
    "**Gradient Descent**\n",
    "\n",
    "repeat until conversion{  \n",
    "\n",
    "- w = w - α * <sup>dJ(w,b)</sup>/<sub>dw</sub>\n",
    "- b = b - α * <sup>dJ(w,b)</sup>/<sub>db</sub>\n",
    "\n",
    "}"
   ]
  },
  {
   "cell_type": "code",
   "execution_count": 27,
   "metadata": {},
   "outputs": [],
   "source": [
    "import math\n",
    "import numpy as np\n",
    "import matplotlib.pyplot as plt"
   ]
  },
  {
   "cell_type": "code",
   "execution_count": 28,
   "metadata": {},
   "outputs": [
    {
     "data": {
      "image/png": "[encoded data removed]",
      "text/plain": [
       "<Figure size 640x480 with 1 Axes>"
      ]
     },
     "metadata": {},
     "output_type": "display_data"
    }
   ],
   "source": [
    "# Made up dataset\n",
    "x_train = np.array([1.0, 1.5, 2.0, 2.5, 3.0])  # features\n",
    "y_train = np.array([1.0, 0.5, 2.0, 1.5, 3.0])  # target Values\n",
    "\n",
    "# Plot dataset\n",
    "plt.scatter(x_train, y_train, c='r', marker='x')\n",
    "plt.title(\"dataset\")\n",
    "plt.show()"
   ]
  },
  {
   "cell_type": "code",
   "execution_count": 29,
   "metadata": {},
   "outputs": [],
   "source": [
    "# Cost function\n",
    "def compute_cost(x, y, w, b):\n",
    "    \n",
    "    m = x.shape[0]\n",
    "    total_cost = 0\n",
    "    \n",
    "    for i in range(m):\n",
    "        y_hat = w*x[i] + b\n",
    "        total_cost += (y_hat - y[i]) ** 2\n",
    "        \n",
    "    return 1/(2*m) * total_cost"
   ]
  },
  {
   "cell_type": "code",
   "execution_count": 30,
   "metadata": {},
   "outputs": [
    {
     "name": "stdout",
     "output_type": "stream",
     "text": [
      "When (w,b)=(0,0), cost = 1.6500000000000001\n"
     ]
    }
   ],
   "source": [
    "# Check if compute_cost function is working properly\n",
    "total_cost = compute_cost(x_train, y_train, 0, 0)\n",
    "print(f'When (w,b)=(0,0), cost = {total_cost}')"
   ]
  },
  {
   "cell_type": "code",
   "execution_count": 31,
   "metadata": {},
   "outputs": [],
   "source": [
    "# Gradient function\n",
    "def compute_gradient(x, y, w, b):\n",
    "    \n",
    "    m = x.shape[0]\n",
    "    dJ_dw = 0\n",
    "    dJ_db = 0\n",
    "    \n",
    "    for i in range(m):\n",
    "        dJ_dw += (w*x[i]+b - y[i]) * x[i]\n",
    "        dJ_db += w*x[i]+b - y[i]\n",
    "        \n",
    "    return dJ_dw / m, dJ_db / m"
   ]
  },
  {
   "cell_type": "code",
   "execution_count": 32,
   "metadata": {},
   "outputs": [],
   "source": [
    "# Gradient descent function\n",
    "def gradient_descent(x, y, w_in, b_in, alpha, num_iters, cost_function, gradient_function):\n",
    "    \"\"\"\n",
    "    Performs gradient descent to fit w,b. Updates w,b by taking \n",
    "    num_iters gradient steps with learning rate alpha\n",
    "\n",
    "    Args:\n",
    "        x (ndarray (m,)): features\n",
    "        y (ndarray (m,)): target values\n",
    "        w_in (scalar): initial value of w\n",
    "        b_in (scalar): initial value of b\n",
    "        alpha (float): learning rate\n",
    "        num_iters (int): number of iterations to perform gradient descent\n",
    "        cost_function: function to compute cost\n",
    "        gradient_function: function to compute gradient\n",
    "        \n",
    "    Returns:\n",
    "        w (scalar): updated value of w\n",
    "        b (scalar): updated value of b\n",
    "        J_history (List): History of cost values\n",
    "        p_history (list): History of parameters [w,b] \n",
    "    \"\"\"\n",
    "    \n",
    "    w, b = w_in, b_in\n",
    "    J_history = []\n",
    "    p_history = []\n",
    "    \n",
    "    for i in range(num_iters):\n",
    "        # compute gradient and update w, b\n",
    "        dJ_dw, dJ_db = gradient_function(x, y, w, b)\n",
    "\n",
    "        w = w - alpha * dJ_dw\n",
    "        b = b - alpha * dJ_db\n",
    "        \n",
    "        # compute cost\n",
    "        cost = cost_function(x, y, w, b)\n",
    "        J_history.append(cost)\n",
    "        p_history.append([w, b])\n",
    "        \n",
    "        # Print cost every at intervals 10 times or as many iterations if < 10\n",
    "        if i% math.ceil(num_iters/10) == 0:\n",
    "            print(f\"Iteration {i:4}: Cost {J_history[-1]:0.2e} \",\n",
    "                  f\"dj_dw: {dJ_dw: 0.3e}, dj_db: {dJ_db: 0.3e}  \",\n",
    "                  f\"w: {w: 0.3e}, b:{b: 0.5e}\")\n",
    " \n",
    "    return w, b, J_history, p_history \n",
    "    "
   ]
  },
  {
   "cell_type": "code",
   "execution_count": 33,
   "metadata": {},
   "outputs": [
    {
     "name": "stdout",
     "output_type": "stream",
     "text": [
      "Iteration    0: Cost 1.49e+00  dj_dw: -3.700e+00, dj_db: -1.600e+00   w:  3.700e-02, b: 1.60000e-02\n",
      "Iteration 1000: Cost 1.24e-01  dj_dw: -1.178e-02, dj_db:  2.596e-02   w:  8.727e-01, b:-1.19537e-01\n",
      "Iteration 2000: Cost 1.21e-01  dj_dw: -4.670e-03, dj_db:  1.029e-02   w:  9.495e-01, b:-2.88795e-01\n",
      "Iteration 3000: Cost 1.20e-01  dj_dw: -1.852e-03, dj_db:  4.081e-03   w:  9.800e-01, b:-3.55906e-01\n",
      "Iteration 4000: Cost 1.20e-01  dj_dw: -7.342e-04, dj_db:  1.618e-03   w:  9.921e-01, b:-3.82517e-01\n",
      "Iteration 5000: Cost 1.20e-01  dj_dw: -2.911e-04, dj_db:  6.416e-04   w:  9.969e-01, b:-3.93068e-01\n",
      "Iteration 6000: Cost 1.20e-01  dj_dw: -1.154e-04, dj_db:  2.544e-04   w:  9.988e-01, b:-3.97251e-01\n",
      "Iteration 7000: Cost 1.20e-01  dj_dw: -4.577e-05, dj_db:  1.009e-04   w:  9.995e-01, b:-3.98910e-01\n",
      "Iteration 8000: Cost 1.20e-01  dj_dw: -1.815e-05, dj_db:  3.999e-05   w:  9.998e-01, b:-3.99568e-01\n",
      "Iteration 9000: Cost 1.20e-01  dj_dw: -7.196e-06, dj_db:  1.586e-05   w:  9.999e-01, b:-3.99829e-01\n",
      "w = 0.9999691423893647, b = -0.39993199697813314\n",
      "Your model is f = 0.9999691423893647 * x + -0.39993199697813314\n"
     ]
    }
   ],
   "source": [
    "w_optimal, b_optimal, J_history, p_history = gradient_descent(x_train, y_train, 0, 0, 1.0e-2, 10000, compute_cost, compute_gradient)\n",
    "print(f\"w = {w_optimal}, b = {b_optimal}\")\n",
    "print(f\"Your model is f = {w_optimal} * x + {b_optimal}\")"
   ]
  },
  {
   "cell_type": "code",
   "execution_count": 35,
   "metadata": {},
   "outputs": [
    {
     "data": {
      "image/png": "[encoded data removed]",
      "text/plain": [
       "<Figure size 640x480 with 1 Axes>"
      ]
     },
     "metadata": {},
     "output_type": "display_data"
    }
   ],
   "source": [
    "# Plot the model on the dataset\n",
    "plt.plot([x_train[0], x_train[-1]],\n",
    "         [w_optimal * x_train[0] + b_optimal, w_optimal * x_train[-1] + b_optimal],\n",
    "         c='b',\n",
    "         label=\"Model\")\n",
    "plt.scatter(x_train, y_train, c='r', marker='x', label=\"Training examples\")\n",
    "plt.title(\"Dataset\")\n",
    "plt.legend()\n",
    "plt.show()"
   ]
  },
  {
   "cell_type": "code",
   "execution_count": 37,
   "metadata": {},
   "outputs": [
    {
     "name": "stdout",
     "output_type": "stream",
     "text": [
      "Prediction for x = 3: 2.599975430189961\n",
      "Prediction for x = 4: -4.399808566535592\n",
      "Prediction for x = 55: 54.59837083443693\n"
     ]
    }
   ],
   "source": [
    "# Prediction\n",
    "print(f\"Prediction for x = 3: {w_optimal * 3 + b_optimal}\")\n",
    "print(f\"Prediction for x = 4: {w_optimal * -4 + b_optimal}\")\n",
    "print(f\"Prediction for x = 55: {w_optimal * 55 + b_optimal}\")"
   ]
  },
  {
   "cell_type": "code",
   "execution_count": null,
   "metadata": {},
   "outputs": [],
   "source": []
  }
 ],
 "metadata": {
  "kernelspec": {
   "display_name": "Python 3",
   "language": "python",
   "name": "python3"
  },
  "language_info": {
   "codemirror_mode": {
    "name": "ipython",
    "version": 3
   },
   "file_extension": ".py",
   "mimetype": "text/x-python",
   "name": "python",
   "nbconvert_exporter": "python",
   "pygments_lexer": "ipython3",
   "version": "3.12.1"
  }
 },
 "nbformat": 4,
 "nbformat_minor": 2
}
